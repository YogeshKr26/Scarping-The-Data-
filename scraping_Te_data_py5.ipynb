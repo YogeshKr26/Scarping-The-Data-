{
  "nbformat": 4,
  "nbformat_minor": 0,
  "metadata": {
    "colab": {
      "provenance": []
    },
    "kernelspec": {
      "name": "python3",
      "display_name": "Python 3"
    },
    "language_info": {
      "name": "python"
    }
  },
  "cells": [
    {
      "cell_type": "code",
      "source": [],
      "metadata": {
        "id": "P6WZfibm_0NL"
      },
      "execution_count": null,
      "outputs": []
    },
    {
      "cell_type": "code",
      "source": [
        "import requests\n",
        "from bs4 import BeautifulSoup\n",
        "\n",
        "url = \"https://stackoverflow.com/questions/415511/how-do-i-get-the-current-time-in-python\""
      ],
      "metadata": {
        "id": "50Jmew-8_0KE"
      },
      "execution_count": null,
      "outputs": []
    },
    {
      "cell_type": "code",
      "source": [
        "response = requests.get(url)"
      ],
      "metadata": {
        "id": "aKKPirshAsR5"
      },
      "execution_count": null,
      "outputs": []
    },
    {
      "cell_type": "code",
      "source": [
        "soup = BeautifulSoup(response.content, \"html.parser\")"
      ],
      "metadata": {
        "id": "8MAgVn_e_0Qq"
      },
      "execution_count": null,
      "outputs": []
    },
    {
      "cell_type": "code",
      "source": [
        "soup"
      ],
      "metadata": {
        "id": "emxuHOtV_0UC"
      },
      "execution_count": null,
      "outputs": []
    },
    {
      "cell_type": "code",
      "source": [
        "<select id=\"answer-sort-dropdown-select-menu\">\n",
        "                    <option value=\"scoredesc\">\n",
        "                        Highest score (default)\n",
        "                    </option>\n",
        "                    <option value=\"trending\">\n",
        "                        Trending (recent votes count more)\n",
        "                    </option>\n",
        "                    <option value=\"modifieddesc\" selected=\"selected\">\n",
        "                        Date modified (newest first)\n",
        "                    </option>\n",
        "                    <option value=\"createdasc\">\n",
        "                        Date created (oldest first)\n"
      ],
      "metadata": {
        "id": "pViFl5pi_0Xi"
      },
      "execution_count": null,
      "outputs": []
    },
    {
      "cell_type": "code",
      "source": [
        "select_element = soup.find('select', id=\"answer-sort-dropdown-select-menu\")"
      ],
      "metadata": {
        "id": "xyNio1V-_0bE"
      },
      "execution_count": null,
      "outputs": []
    },
    {
      "cell_type": "code",
      "source": [
        "options = select_element.find_all(\"option\")"
      ],
      "metadata": {
        "id": "1QISnYybAFxy"
      },
      "execution_count": null,
      "outputs": []
    },
    {
      "cell_type": "code",
      "source": [
        "for option in options:\n",
        "    value = option[\"value\"]\n",
        "    text = option.get_text(strip=True)\n",
        "    print(f\"Value: {value},  {text}\")"
      ],
      "metadata": {
        "id": "uY6L8EkYAF1B"
      },
      "execution_count": null,
      "outputs": []
    },
    {
      "cell_type": "code",
      "source": [],
      "metadata": {
        "id": "ONFT4bVjAF45"
      },
      "execution_count": null,
      "outputs": []
    },
    {
      "cell_type": "code",
      "source": [],
      "metadata": {
        "id": "4C8V5-4ZAF8Q"
      },
      "execution_count": null,
      "outputs": []
    }
  ]
}